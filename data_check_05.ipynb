{
 "cells": [
  {
   "cell_type": "code",
   "execution_count": 1,
   "metadata": {},
   "outputs": [],
   "source": [
    "# program to read, check & repair smartdata file with errors\n",
    "# the new repaired smartdata is written to standard text file\n",
    "import pandas as pd\n",
    "import numpy as np\n",
    "import datetime\n",
    "from datetime import timedelta\n",
    "import json\n",
    "import sys\n",
    "import matplotlib.pyplot as plt\n",
    "%matplotlib inline"
   ]
  },
  {
   "cell_type": "code",
   "execution_count": 2,
   "metadata": {},
   "outputs": [
    {
     "name": "stdout",
     "output_type": "stream",
     "text": [
      "last index =  56528\n",
      "last json timestamps 2018-05-29T11:59:13Z\n",
      "last json values     157484.4\n"
     ]
    }
   ],
   "source": [
    "# read the json file into 'data' array\n",
    "with open('temp.json') as f:\n",
    "    data = json.load(f)\n",
    "\n",
    "# print values at end of the dataset\n",
    "last = len(data[\"values\"])-1 # starting zero\n",
    "print 'last index = ',last\n",
    "print 'last json timestamps',data[\"timestamps\"][last]\n",
    "print 'last json values    ',data[\"values\"][last]"
   ]
  },
  {
   "cell_type": "code",
   "execution_count": 3,
   "metadata": {},
   "outputs": [
    {
     "name": "stdout",
     "output_type": "stream",
     "text": [
      "check last dates[]   2018-05-29 11:59:13\n",
      "check last value[]   157484.4\n"
     ]
    }
   ],
   "source": [
    "# move data into seperate arrays and\n",
    "# convert to standard datetime format\n",
    "dates = []\n",
    "value = []\n",
    "for i in range(0,last+1):\n",
    "    dates.append(datetime.datetime.strptime(data[\"timestamps\"][i], '%Y-%m-%dT%H:%M:%SZ'))\n",
    "    value.append(data[\"values\"][i])\n",
    "\n",
    "# check last values same as above\n",
    "print 'check last dates[]  ',dates[last]\n",
    "print 'check last value[]  ',value[last]"
   ]
  },
  {
   "cell_type": "code",
   "execution_count": 4,
   "metadata": {},
   "outputs": [
    {
     "data": {
      "image/png": "[encoded data removed]",
      "text/plain": [
       "<matplotlib.figure.Figure at 0xbe4d2d0>"
      ]
     },
     "metadata": {},
     "output_type": "display_data"
    }
   ],
   "source": [
    "# scatter plot the original data to look for gaps and errors\n",
    "fig,ax = plt.subplots(figsize=(12,4))\n",
    "plt.scatter(dates,value,marker=\".\",s=1,color='black')\n",
    "xmin = dates[0]\n",
    "xmax = dates[last]\n",
    "plt.xlim([xmin,xmax])\n",
    "plt.show()"
   ]
  },
  {
   "cell_type": "code",
   "execution_count": 5,
   "metadata": {},
   "outputs": [
    {
     "name": "stdout",
     "output_type": "stream",
     "text": [
      "at 0 % 0.0 days 0.5 hours 1 gaps\n",
      "at 1 % 0.0 days 0.5 hours 1 gaps\n",
      "at 1 % 0.0 days 0.5 hours 1 gaps\n",
      "at 1 % 0.0 days 0.75 hours 2 gaps\n",
      "at 1 % 0.0 days 0.5 hours 1 gaps\n",
      "at 1 % 0.0 days 0.5 hours 1 gaps\n",
      "at 1 % 0.0 days 0.5 hours 1 gaps\n",
      "at 1 % 0.0 days 0.5 hours 1 gaps\n",
      "at 1 % 0.0 days 1.0 hours 3 gaps\n",
      "at 1 % 0.0 days 0.5 hours 1 gaps\n",
      "at 1 % 0.0 days 0.5 hours 1 gaps\n",
      "at 1 % 0.0 days 0.5 hours 1 gaps\n",
      "at 1 % 0.0 days 0.5 hours 1 gaps\n",
      "at 1 % 0.0 days 0.5 hours 1 gaps\n",
      "at 1 % 0.0 days 0.5 hours 1 gaps\n",
      "at 1 % 0.0 days 0.5 hours 1 gaps\n",
      "at 2 % 0.0 days 0.500555555556 hours 1 gaps\n",
      "at 3 % 0.0 days 0.5 hours 1 gaps\n",
      "at 4 % 0.0 days 0.5 hours 1 gaps\n",
      "at 4 % 0.0 days 0.5 hours 1 gaps\n",
      "at 4 % 0.0 days 0.5 hours 1 gaps\n",
      "at 4 % 0.0 days 0.5 hours 1 gaps\n",
      "at 4 % 0.0 days 0.5 hours 1 gaps\n",
      "at 4 % 0.0 days 0.5 hours 1 gaps\n",
      "at 4 % 0.0 days 0.5 hours 1 gaps\n",
      "at 4 % 0.0 days 0.5 hours 1 gaps\n",
      "at 4 % 0.0 days 0.5 hours 1 gaps\n",
      "at 4 % 0.0 days 0.5 hours 1 gaps\n",
      "at 4 % 0.0 days 1.0 hours 3 gaps\n",
      "at 4 % 0.0 days 0.5 hours 1 gaps\n",
      "at 4 % 0.0 days 1.50055555556 hours 5 gaps\n",
      "at 4 % 0.0 days 0.499444444444 hours 1 gaps\n",
      "at 4 % 0.0 days 0.500555555556 hours 1 gaps\n",
      "at 4 % 0.0 days 0.499444444444 hours 1 gaps\n",
      "at 4 % 0.0 days 0.5 hours 1 gaps\n",
      "at 4 % 0.0 days 0.5 hours 1 gaps\n",
      "at 4 % 0.0 days 0.5 hours 1 gaps\n",
      "at 4 % 0.0 days 0.5 hours 1 gaps\n",
      "at 4 % 0.0 days 0.5 hours 1 gaps\n",
      "at 4 % 0.0 days 1.75 hours 6 gaps\n",
      "at 4 % 0.0 days 0.5 hours 1 gaps\n",
      "at 4 % 0.0 days 0.5 hours 1 gaps\n",
      "at 4 % 0.0 days 0.5 hours 1 gaps\n",
      "at 4 % 0.0 days 0.5 hours 1 gaps\n",
      "at 4 % 0.0 days 0.500277777778 hours 1 gaps\n",
      "at 4 % 0.0 days 0.747777777778 hours 2 gaps\n",
      "at 4 % 0.0 days 1.7525 hours 6 gaps\n",
      "at 4 % 0.0 days 0.497777777778 hours 1 gaps\n",
      "at 4 % 0.0 days 0.5 hours 1 gaps\n",
      "at 4 % 0.0 days 0.5 hours 1 gaps\n",
      "at 4 % 0.0 days 0.5 hours 1 gaps\n",
      "at 4 % 0.0 days 0.5 hours 1 gaps\n",
      "at 4 % 0.0 days 0.5 hours 1 gaps\n",
      "at 4 % 0.0 days 0.5 hours 1 gaps\n",
      "at 4 % 0.0 days 0.5 hours 1 gaps\n",
      "at 4 % 0.0 days 2.25055555556 hours 8 gaps\n",
      "at 4 % 0.0 days 0.5 hours 1 gaps\n",
      "at 4 % 0.0 days 1.0 hours 3 gaps\n",
      "at 4 % 0.0 days 0.500555555556 hours 1 gaps\n",
      "at 4 % 0.0 days 0.5 hours 1 gaps\n",
      "at 4 % 0.0 days 0.5 hours 1 gaps\n",
      "at 4 % 0.0 days 0.5 hours 1 gaps\n",
      "at 4 % 0.0 days 0.5 hours 1 gaps\n",
      "at 4 % 0.0 days 0.5 hours 1 gaps\n",
      "at 4 % 0.0 days 0.5 hours 1 gaps\n",
      "at 4 % 0.0 days 0.5 hours 1 gaps\n",
      "at 4 % 0.0 days 0.5 hours 1 gaps\n",
      "at 4 % 0.0 days 0.5 hours 1 gaps\n",
      "at 4 % 0.0 days 0.5 hours 1 gaps\n",
      "at 4 % 0.0 days 0.5 hours 1 gaps\n",
      "at 4 % 0.0 days 1.75055555556 hours 6 gaps\n",
      "at 4 % 0.0 days 1.75 hours 6 gaps\n",
      "at 4 % 0.0 days 0.5 hours 1 gaps\n",
      "at 4 % 0.0 days 0.5 hours 1 gaps\n",
      "at 4 % 0.0 days 0.5 hours 1 gaps\n",
      "at 4 % 0.0 days 0.5 hours 1 gaps\n",
      "at 4 % 0.0 days 0.5 hours 1 gaps\n",
      "at 4 % 0.0 days 0.5 hours 1 gaps\n",
      "at 5 % 0.0 days 1.0 hours 3 gaps\n",
      "at 5 % 0.0 days 0.5 hours 1 gaps\n",
      "at 6 % 0.0 days 0.5 hours 1 gaps\n",
      "at 7 % 0.0 days 0.5 hours 1 gaps\n",
      "at 8 % 0.0 days 0.5 hours 1 gaps\n",
      "at 9 % 0.0 days 0.5 hours 1 gaps\n",
      "at 10 % 0.0 days 0.501111111111 hours 1 gaps\n",
      "at 11 % 0.0 days 0.5 hours 1 gaps\n",
      "at 12 % 2.0 days 12.2494444444 hours 240 gaps\n",
      "at 13 % 0.0 days 0.500277777778 hours 1 gaps\n",
      "at 13 % 0.0 days 0.5 hours 1 gaps\n",
      "at 13 % 0.0 days 0.5 hours 1 gaps\n",
      "at 14 % 0.0 days 0.5 hours 1 gaps\n",
      "at 15 % 0.0 days 0.5 hours 1 gaps\n",
      "at 16 % 0.0 days 2.0 hours 7 gaps\n",
      "at 17 % 0.0 days 0.5 hours 1 gaps\n",
      "at 18 % 0.0 days 0.500555555556 hours 1 gaps\n",
      "at 19 % 0.0 days 0.5 hours 1 gaps\n",
      "at 20 % 0.0 days 0.500555555556 hours 1 gaps\n",
      "at 21 % 0.0 days 0.5 hours 1 gaps\n",
      "at 22 % 0.0 days 0.5 hours 1 gaps\n",
      "at 23 % 0.0 days 0.5 hours 1 gaps\n",
      "at 24 % 0.0 days 0.5 hours 1 gaps\n",
      "at 26 % 0.0 days 0.5 hours 1 gaps\n",
      "at 27 % 0.0 days 0.5 hours 1 gaps\n",
      "at 28 % 0.0 days 0.5 hours 1 gaps\n",
      "at 28 % 48.0 days 22.75 hours 4698 gaps\n",
      "at 29 % 0.0 days 12.25 hours 48 gaps\n",
      "at 29 % 0.0 days 0.5 hours 1 gaps\n",
      "at 30 % 0.0 days 12.25 hours 48 gaps\n",
      "at 30 % 0.0 days 0.499444444444 hours 1 gaps\n",
      "at 30 % 52.0 days 21.2477777778 hours 5076 gaps\n",
      "at 30 % 0.0 days 0.499444444444 hours 1 gaps\n",
      "at 31 % 0.0 days 0.5 hours 1 gaps\n",
      "at 32 % 0.0 days 0.500277777778 hours 1 gaps\n",
      "at 32 % 0.0 days 0.5 hours 1 gaps\n",
      "at 33 % 0.0 days 0.75 hours 2 gaps\n",
      "at 33 % 0.0 days 0.500555555556 hours 1 gaps\n",
      "at 33 % 0.0 days 0.500277777778 hours 1 gaps\n",
      "at 33 % 0.0 days 0.750833333333 hours 2 gaps\n",
      "at 33 % 0.0 days 0.997777777778 hours 3 gaps\n",
      "at 33 % 0.0 days 0.75 hours 2 gaps\n",
      "at 33 % 0.0 days 0.75 hours 2 gaps\n",
      "at 33 % 0.0 days 0.500833333333 hours 1 gaps\n",
      "at 33 % 0.0 days 0.499166666667 hours 1 gaps\n",
      "at 33 % 0.0 days 1.0 hours 3 gaps\n",
      "at 33 % 0.0 days 0.999722222222 hours 3 gaps\n",
      "at 33 % 0.0 days 0.75 hours 2 gaps\n",
      "at 33 % 0.0 days 0.499722222222 hours 1 gaps\n",
      "at 33 % 0.0 days 0.750833333333 hours 2 gaps\n",
      "at 33 % 0.0 days 0.750277777778 hours 2 gaps\n",
      "at 33 % 0.0 days 0.75 hours 2 gaps\n",
      "at 33 % 0.0 days 0.749722222222 hours 2 gaps\n",
      "at 33 % 0.0 days 0.75 hours 2 gaps\n",
      "at 33 % 0.0 days 0.75 hours 2 gaps\n",
      "at 33 % 0.0 days 0.75 hours 2 gaps\n",
      "at 33 % 0.0 days 0.75 hours 2 gaps\n",
      "at 33 % 0.0 days 1.75 hours 6 gaps\n",
      "at 33 % 0.0 days 0.75 hours 2 gaps\n",
      "at 33 % 0.0 days 0.5 hours 1 gaps\n",
      "at 33 % 0.0 days 0.75 hours 2 gaps\n",
      "at 33 % 0.0 days 0.5 hours 1 gaps\n",
      "at 33 % 0.0 days 0.750277777778 hours 2 gaps\n",
      "at 33 % 0.0 days 0.749722222222 hours 2 gaps\n",
      "at 33 % 0.0 days 0.75 hours 2 gaps\n",
      "at 33 % 0.0 days 0.75 hours 2 gaps\n",
      "at 33 % 0.0 days 0.5 hours 1 gaps\n",
      "at 33 % 0.0 days 0.5 hours 1 gaps\n",
      "at 33 % 0.0 days 0.5 hours 1 gaps\n",
      "at 33 % 0.0 days 0.500277777778 hours 1 gaps\n",
      "at 33 % 0.0 days 0.499722222222 hours 1 gaps\n",
      "at 33 % 0.0 days 2.0 hours 7 gaps\n",
      "at 33 % 0.0 days 0.5 hours 1 gaps\n",
      "at 34 % 0.0 days 0.5 hours 1 gaps\n",
      "at 35 % 0.0 days 0.499722222222 hours 1 gaps\n",
      "at 36 % 0.0 days 0.501111111111 hours 1 gaps\n",
      "at 37 % 0.0 days 0.500277777778 hours 1 gaps\n",
      "at 37 % 0.0 days 1.74833333333 hours 6 gaps\n",
      "at 38 % 0.0 days 0.75 hours 2 gaps\n",
      "at 40 % 0.0 days 0.499444444444 hours 1 gaps\n",
      "at 43 % 0.0 days 0.5 hours 1 gaps\n",
      "at 44 % 0.0 days 0.5 hours 1 gaps\n",
      "at 44 % 0.0 days 16.75 hours 66 gaps\n",
      "at 44 % 0.0 days 0.5 hours 1 gaps\n",
      "at 44 % 0.0 days 0.5 hours 1 gaps\n",
      "at 46 % 0.0 days 0.5 hours 1 gaps\n",
      "at 46 % 0.0 days 0.5 hours 1 gaps\n",
      "at 46 % 0.0 days 1.25 hours 4 gaps\n",
      "at 46 % 0.0 days 1.25 hours 4 gaps\n",
      "at 46 % 0.0 days 0.5 hours 1 gaps\n",
      "at 46 % 0.0 days 0.5 hours 1 gaps\n",
      "at 46 % 0.0 days 0.500555555556 hours 1 gaps\n",
      "at 46 % 0.0 days 1.24944444444 hours 4 gaps\n",
      "at 46 % 0.0 days 0.5 hours 1 gaps\n",
      "at 46 % 0.0 days 0.5025 hours 1 gaps\n",
      "at 46 % 0.0 days 0.5 hours 1 gaps\n",
      "at 46 % 0.0 days 0.5 hours 1 gaps\n",
      "at 46 % 0.0 days 0.5 hours 1 gaps\n",
      "at 46 % 0.0 days 0.500555555556 hours 1 gaps\n",
      "at 46 % 0.0 days 0.499444444444 hours 1 gaps\n",
      "at 46 % 0.0 days 0.5 hours 1 gaps\n",
      "at 46 % 0.0 days 0.75 hours 2 gaps\n",
      "at 46 % 0.0 days 0.5 hours 1 gaps\n",
      "at 46 % 0.0 days 0.75 hours 2 gaps\n",
      "at 46 % 0.0 days 0.501944444444 hours 1 gaps\n",
      "at 46 % 0.0 days 0.5 hours 1 gaps\n",
      "at 46 % 0.0 days 0.5 hours 1 gaps\n",
      "at 46 % 0.0 days 0.5 hours 1 gaps\n",
      "at 46 % 0.0 days 0.5 hours 1 gaps\n",
      "at 46 % 0.0 days 0.750555555556 hours 2 gaps\n",
      "at 46 % 0.0 days 1.25222222222 hours 4 gaps\n",
      "at 46 % 0.0 days 0.5 hours 1 gaps\n",
      "at 46 % 0.0 days 0.5 hours 1 gaps\n",
      "at 46 % 0.0 days 0.5025 hours 1 gaps\n",
      "at 46 % 0.0 days 1.25 hours 4 gaps\n",
      "at 46 % 0.0 days 1.25 hours 4 gaps\n",
      "at 46 % 0.0 days 0.5 hours 1 gaps\n",
      "at 46 % 0.0 days 0.5 hours 1 gaps\n",
      "at 46 % 0.0 days 0.5 hours 1 gaps\n",
      "at 46 % 0.0 days 0.5 hours 1 gaps\n",
      "at 46 % 0.0 days 0.5 hours 1 gaps\n",
      "at 46 % 0.0 days 0.5 hours 1 gaps\n",
      "at 46 % 0.0 days 1.25 hours 4 gaps\n",
      "at 46 % 0.0 days 0.75 hours 2 gaps\n",
      "at 46 % 0.0 days 0.5 hours 1 gaps\n",
      "at 46 % 0.0 days 0.5 hours 1 gaps\n",
      "at 46 % 0.0 days 0.5 hours 1 gaps\n",
      "at 46 % 0.0 days 0.5 hours 1 gaps\n",
      "at 46 % 0.0 days 0.5 hours 1 gaps\n",
      "at 46 % 0.0 days 0.5 hours 1 gaps\n",
      "at 47 % 0.0 days 0.5 hours 1 gaps\n",
      "at 47 % 0.0 days 0.5 hours 1 gaps\n",
      "at 47 % 0.0 days 0.5 hours 1 gaps\n",
      "at 50 % 4.0 days 2.25 hours 392 gaps\n",
      "at 53 % 0.0 days 0.75 hours 2 gaps\n",
      "at 55 % 1.0 days 18.4994444444 hours 169 gaps\n",
      "at 55 % 24.0 days 16.2497222222 hours 2368 gaps\n",
      "at 55 % 0.0 days 1.00027777778 hours 3 gaps\n",
      "at 55 % 0.0 days 0.499444444444 hours 1 gaps\n",
      "at 56 % 0.0 days 0.5 hours 1 gaps\n",
      "at 57 % 0.0 days 12.25 hours 48 gaps\n",
      "at 64 % 0.0 days 0.499722222222 hours 1 gaps\n",
      "at 65 % 0.0 days 0.5 hours 1 gaps\n",
      "at 65 % 0.0 days 0.5 hours 1 gaps\n",
      "at 66 % 0.0 days 1.0 hours 3 gaps\n",
      "at 66 % 0.0 days 0.5 hours 1 gaps\n",
      "at 66 % 0.0 days 0.5 hours 1 gaps\n",
      "at 66 % 0.0 days 0.749722222222 hours 2 gaps\n",
      "at 66 % 0.0 days 0.5 hours 1 gaps\n",
      "at 66 % 0.0 days 0.5 hours 1 gaps\n",
      "at 66 % 0.0 days 0.5 hours 1 gaps\n",
      "at 68 % 0.0 days 0.500277777778 hours 1 gaps\n",
      "at 68 % 0.0 days 0.499722222222 hours 1 gaps\n",
      "at 68 % 0.0 days 0.500277777778 hours 1 gaps\n",
      "at 68 % 0.0 days 1.50194444444 hours 5 gaps\n",
      "at 68 % 0.0 days 0.997777777778 hours 3 gaps\n",
      "at 68 % 0.0 days 1.0 hours 3 gaps\n",
      "at 68 % 0.0 days 0.5 hours 1 gaps\n",
      "at 68 % 0.0 days 0.5 hours 1 gaps\n",
      "at 68 % 0.0 days 0.748611111111 hours 2 gaps\n",
      "at 68 % 0.0 days 0.499444444444 hours 1 gaps\n",
      "at 68 % 0.0 days 0.5 hours 1 gaps\n",
      "at 68 % 0.0 days 0.500277777778 hours 1 gaps\n",
      "at 68 % 0.0 days 0.499722222222 hours 1 gaps\n",
      "at 68 % 0.0 days 2.00027777778 hours 7 gaps\n",
      "at 68 % 0.0 days 0.499722222222 hours 1 gaps\n",
      "at 68 % 0.0 days 0.5 hours 1 gaps\n",
      "at 68 % 0.0 days 0.5 hours 1 gaps\n",
      "at 68 % 0.0 days 0.5 hours 1 gaps\n",
      "at 68 % 0.0 days 0.5 hours 1 gaps\n",
      "at 68 % 0.0 days 0.750833333333 hours 2 gaps\n",
      "at 68 % 0.0 days 0.499444444444 hours 1 gaps\n",
      "at 68 % 0.0 days 1.99972222222 hours 7 gaps\n",
      "at 68 % 0.0 days 0.5 hours 1 gaps\n",
      "at 68 % 0.0 days 0.75 hours 2 gaps\n",
      "at 68 % 0.0 days 0.5 hours 1 gaps\n",
      "at 68 % 0.0 days 0.5 hours 1 gaps\n",
      "at 68 % 0.0 days 0.5 hours 1 gaps\n",
      "at 68 % 0.0 days 0.5 hours 1 gaps\n",
      "at 68 % 0.0 days 0.5 hours 1 gaps\n",
      "at 68 % 0.0 days 0.5 hours 1 gaps\n",
      "at 68 % 0.0 days 0.997222222222 hours 3 gaps\n",
      "at 68 % 0.0 days 0.500277777778 hours 1 gaps\n",
      "at 68 % 0.0 days 0.5 hours 1 gaps\n",
      "at 68 % 0.0 days 1.00194444444 hours 3 gaps\n",
      "at 68 % 0.0 days 1.74777777778 hours 6 gaps\n",
      "at 68 % 0.0 days 0.75 hours 2 gaps\n",
      "at 69 % 0.0 days 0.750555555556 hours 2 gaps\n",
      "at 69 % 0.0 days 0.5 hours 1 gaps\n",
      "at 69 % 0.0 days 0.750555555556 hours 2 gaps\n",
      "at 70 % 0.0 days 1.25 hours 4 gaps\n",
      "at 70 % 0.0 days 0.749444444444 hours 2 gaps\n",
      "at 72 % 0.0 days 12.25 hours 48 gaps\n",
      "at 72 % 0.0 days 0.5 hours 1 gaps\n",
      "at 74 % 0.0 days 12.2494444444 hours 48 gaps\n",
      "at 76 % 33.0 days 19.75 hours 3246 gaps\n",
      "at 76 % 1.0 days 0.75 hours 98 gaps\n",
      "at 76 % 0.0 days 0.5 hours 1 gaps\n"
     ]
    },
    {
     "name": "stdout",
     "output_type": "stream",
     "text": [
      "at 85 % 0.0 days 0.5 hours 1 gaps\n",
      "at 85 % 0.0 days 0.499444444444 hours 1 gaps\n",
      "at 85 % 0.0 days 0.749166666667 hours 2 gaps\n",
      "at 85 % 0.0 days 0.500833333333 hours 1 gaps\n",
      "at 85 % 0.0 days 0.497777777778 hours 1 gaps\n",
      "at 85 % 0.0 days 0.499722222222 hours 1 gaps\n",
      "at 86 % 0.0 days 0.500277777778 hours 1 gaps\n",
      "at 86 % 0.0 days 0.502222222222 hours 1 gaps\n",
      "at 86 % 0.0 days 0.500277777778 hours 1 gaps\n",
      "at 86 % 0.0 days 1.0 hours 3 gaps\n",
      "at 86 % 0.0 days 0.5 hours 1 gaps\n",
      "at 86 % 0.0 days 0.748055555556 hours 2 gaps\n",
      "at 86 % 0.0 days 0.5 hours 1 gaps\n",
      "at 86 % 0.0 days 0.500277777778 hours 1 gaps\n",
      "at 86 % 0.0 days 0.499722222222 hours 1 gaps\n",
      "at 86 % 0.0 days 0.5 hours 1 gaps\n",
      "at 86 % 0.0 days 0.75 hours 2 gaps\n",
      "at 88 % 0.0 days 0.502222222222 hours 1 gaps\n",
      "at 88 % 0.0 days 2.25 hours 8 gaps\n",
      "at 88 % 0.0 days 0.5 hours 1 gaps\n",
      "at 88 % 0.0 days 0.500277777778 hours 1 gaps\n",
      "at 88 % 0.0 days 0.500277777778 hours 1 gaps\n",
      "at 88 % 0.0 days 0.5 hours 1 gaps\n",
      "at 88 % 0.0 days 1.00055555556 hours 3 gaps\n",
      "at 88 % 0.0 days 3.24944444444 hours 12 gaps\n",
      "at 88 % 0.0 days 0.500277777778 hours 1 gaps\n",
      "at 88 % 0.0 days 2.5 hours 9 gaps\n",
      "at 88 % 0.0 days 0.5 hours 1 gaps\n",
      "at 88 % 0.0 days 0.5 hours 1 gaps\n",
      "at 88 % 0.0 days 3.5 hours 13 gaps\n",
      "at 88 % 0.0 days 0.5 hours 1 gaps\n",
      "at 88 % 0.0 days 1.74944444444 hours 6 gaps\n",
      "at 88 % 0.0 days 0.5 hours 1 gaps\n",
      "at 88 % 0.0 days 0.750277777778 hours 2 gaps\n",
      "at 88 % 0.0 days 0.750277777778 hours 2 gaps\n",
      "at 88 % 0.0 days 0.500277777778 hours 1 gaps\n",
      "at 88 % 0.0 days 0.499722222222 hours 1 gaps\n",
      "at 89 % 0.0 days 0.499722222222 hours 1 gaps\n"
     ]
    }
   ],
   "source": [
    "# new array for data insertion\n",
    "newdates = [] \n",
    "newvalue = []\n",
    "# save added values seperately for checking in gnuplot\n",
    "repdates = [] \n",
    "repvalue = []\n",
    "\n",
    "# loop through the time data and look for \n",
    "# gaps greater than maxgapsize and repair \n",
    "# and copy existing data to the new arrays\n",
    "for i in range(1,last+1):\n",
    "    # copy original values to newdata\n",
    "    newdates.append(dates[i-1])\n",
    "    newvalue.append(value[i-1])\n",
    "    # define deltatime and deltavalue\n",
    "    dt = dates[i]-dates[i-1]\n",
    "    dv = value[i]-value[i-1]\n",
    "    # change maxgapsize to (days=2) for example to fix only large gaps\n",
    "    maxgapsize = timedelta(minutes = 16) # user specified max gap size\n",
    "    tincrement = timedelta(minutes = 15) # time steps used to fill gap\n",
    "\n",
    "    # if there is a gap in the time data,\n",
    "    # calc how many data points to insert\n",
    "    if dt > maxgapsize:\n",
    "        percent = int(float(i)*100/last) # position in data file\n",
    "        dtdays  = float(dt.days)\n",
    "        dthours = float(dt.seconds)/3600\n",
    "        numgaps = float(dtdays*24*4 + dthours*4 - 1) # number of 15min intervals\n",
    "        numgaps = int(round(numgaps,0)) #round up/down to nearest integer\n",
    "        print \"at\",percent,\"%\",dtdays,\"days\",dthours,\"hours\",numgaps,\"gaps\"  \n",
    "\n",
    "        # error check\n",
    "        if numgaps < 1:\n",
    "            sys.exit(\"error: numgaps < 1\")\n",
    "        \n",
    "        # fill in the missing data\n",
    "        for gap in range(0,numgaps):\n",
    "            newdates.append(newdates[-1] + tincrement)\n",
    "            newvalue.append(newvalue[-1] + dv/float(numgaps+1))\n",
    "            repdates.append(newdates[-1])\n",
    "            repvalue.append(newvalue[-1])\n",
    "            #print \"debug\",newdates[-1],newvalue[-1]"
   ]
  },
  {
   "cell_type": "code",
   "execution_count": 6,
   "metadata": {},
   "outputs": [
    {
     "name": "stdout",
     "output_type": "stream",
     "text": [
      "old last index = 56528\n",
      "new last index = 73631\n",
      "num gaps added = 17103\n"
     ]
    }
   ],
   "source": [
    "# summary of the points added\n",
    "newlast = len(newdates)-1 # (starting at zero)\n",
    "print \"old last index =\",last\n",
    "print \"new last index =\",newlast\n",
    "print \"num gaps added =\",newlast-last"
   ]
  },
  {
   "cell_type": "code",
   "execution_count": 7,
   "metadata": {},
   "outputs": [
    {
     "data": {
      "image/png": "[encoded data removed]",
      "text/plain": [
       "<matplotlib.figure.Figure at 0xa5fadf0>"
      ]
     },
     "metadata": {},
     "output_type": "display_data"
    }
   ],
   "source": [
    "# scatter plot the repaired dataset\n",
    "fig,ax = plt.subplots(figsize=(12,4))\n",
    "plt.scatter(newdates,newvalue,marker=\".\",s=1,color='black')\n",
    "xmin = newdates[0]       # to inspect\n",
    "xmax = newdates[newlast] # to inspect\n",
    "plt.xlim([xmin,xmax])\n",
    "plt.show()"
   ]
  },
  {
   "cell_type": "code",
   "execution_count": 8,
   "metadata": {
    "scrolled": true
   },
   "outputs": [
    {
     "name": "stdout",
     "output_type": "stream",
     "text": [
      "check first values:\n",
      "74707.5\n",
      "74707.5\n",
      "74707.5\n",
      "check last values:\n",
      "157484.4\n",
      "157484.4\n",
      "157484.4\n"
     ]
    }
   ],
   "source": [
    "# double check first/last points consistent\n",
    "print 'check first values:'\n",
    "print data[\"values\"][0]\n",
    "print value[0]\n",
    "print newvalue[0]\n",
    "\n",
    "print 'check last values:'\n",
    "print data[\"values\"][last]\n",
    "print value[last]\n",
    "print newvalue[newlast]"
   ]
  },
  {
   "cell_type": "code",
   "execution_count": 9,
   "metadata": {},
   "outputs": [
    {
     "name": "stdout",
     "output_type": "stream",
     "text": [
      "maxgapsize = 0:15:50 (hour:min:sec) at i = 62864 / 73631\n"
     ]
    }
   ],
   "source": [
    "#search new data for max gap size (should be < 16min)\n",
    "maxgapsize = timedelta(minutes = 1)\n",
    "maxgapiloc = 0\n",
    "for i in range(1,newlast+1):\n",
    "    dt = newdates[i]-newdates[i-1]\n",
    "    if dt > maxgapsize:\n",
    "        maxgapsize = dt\n",
    "        maxgapiloc = i\n",
    "\n",
    "print \"maxgapsize =\",maxgapsize,\"(hour:min:sec) at i =\",maxgapiloc,'/',newlast"
   ]
  },
  {
   "cell_type": "code",
   "execution_count": 10,
   "metadata": {},
   "outputs": [
    {
     "name": "stdout",
     "output_type": "stream",
     "text": [
      "writing repaired_full...\n",
      "writing done\n"
     ]
    }
   ],
   "source": [
    "# write data to text files for (gnuplot) inspection\n",
    "print \"writing repaired_full...\"\n",
    "file = open('repaired_full.dat','w') \n",
    "for i in range(0,newlast+1):\n",
    "    dstr = newdates[i].strftime('%d/%m/%y %H:%M:%S')\n",
    "    line = dstr + \" \" + str(newvalue[i])\n",
    "    file.write(str(line)+'\\n') \n",
    "file.close() \n",
    "print \"writing done\""
   ]
  },
  {
   "cell_type": "code",
   "execution_count": 11,
   "metadata": {},
   "outputs": [
    {
     "name": "stdout",
     "output_type": "stream",
     "text": [
      "writing repaired_only...\n",
      "writing done\n"
     ]
    }
   ],
   "source": [
    "print \"writing repaired_only...\"\n",
    "replast = len(repdates)-1 # starting zero\n",
    "file = open('repaired_only.dat','w') \n",
    "for i in range(0,replast+1):\n",
    "    dstr = repdates[i].strftime('%d/%m/%y %H:%M:%S')\n",
    "    line = dstr + \" \" + str(repvalue[i])\n",
    "    file.write(str(line)+'\\n') \n",
    "file.close() \n",
    "print \"writing done\""
   ]
  },
  {
   "cell_type": "code",
   "execution_count": 12,
   "metadata": {},
   "outputs": [
    {
     "name": "stdout",
     "output_type": "stream",
     "text": [
      "writing original_only...\n",
      "writing done\n"
     ]
    }
   ],
   "source": [
    "print \"writing original_only...\"\n",
    "file = open('original_only.dat','w') \n",
    "for i in range(0,last+1):\n",
    "    dstr = dates[i].strftime('%d/%m/%y %H:%M:%S')\n",
    "    line = dstr + \" \" + str(value[i])\n",
    "    file.write(str(line)+'\\n') \n",
    "file.close() \n",
    "print \"writing done\""
   ]
  },
  {
   "cell_type": "markdown",
   "metadata": {},
   "source": [
    "<img style=\"float:left\" src=\"sample_gnuplot1.png\" width=\"400\">"
   ]
  },
  {
   "cell_type": "markdown",
   "metadata": {},
   "source": [
    "<img style=\"float:left\" src=\"sample_gnuplot2.png\" width=\"400\">"
   ]
  },
  {
   "cell_type": "markdown",
   "metadata": {},
   "source": [
    "<img style=\"float:left\" src=\"sample_gnuplot3.png\" width=\"400\">"
   ]
  },
  {
   "cell_type": "code",
   "execution_count": null,
   "metadata": {},
   "outputs": [],
   "source": []
  }
 ],
 "metadata": {
  "kernelspec": {
   "display_name": "Python 2",
   "language": "python",
   "name": "python2"
  },
  "language_info": {
   "codemirror_mode": {
    "name": "ipython",
    "version": 2
   },
   "file_extension": ".py",
   "mimetype": "text/x-python",
   "name": "python",
   "nbconvert_exporter": "python",
   "pygments_lexer": "ipython2",
   "version": "2.7.10"
  }
 },
 "nbformat": 4,
 "nbformat_minor": 2
}
